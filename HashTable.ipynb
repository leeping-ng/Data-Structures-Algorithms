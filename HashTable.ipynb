{
 "cells": [
  {
   "cell_type": "markdown",
   "metadata": {},
   "source": [
    "# 1. Two Sum\n",
    "\n",
    "Given an array of integers, return indices of the two numbers such that they add up to a specific target.\n",
    "\n",
    "You may assume that each input would have exactly one solution, and you may not use the same element twice.\n",
    "\n",
    "Example:\n",
    "-----------------------------------------------\n",
    "Given nums = [2, 7, 11, 15], target = 9,\n",
    "\n",
    "Because nums[0] + nums[1] = 2 + 7 = 9,\n",
    "return [0, 1]."
   ]
  },
  {
   "cell_type": "markdown",
   "metadata": {},
   "source": [
    "## 1.1 BRUTE FORCE APPROACH\n",
    "\n",
    "TIME COMPLEXITY:   O(n^2)\n",
    "\n",
    "SPACE COMPLEXITY:  O(1)"
   ]
  },
  {
   "cell_type": "code",
   "execution_count": null,
   "metadata": {},
   "outputs": [],
   "source": [
    "class Solution:\n",
    "    def twoSum(self, nums: List[int], target: int) -> List[int]:\n",
    "        for i in range(len(nums)):\n",
    "            for j in range(len(nums)):\n",
    "                if i!=j:\n",
    "                    if nums[i] + nums[j]==target:\n",
    "                        return [i,j]"
   ]
  },
  {
   "cell_type": "markdown",
   "metadata": {},
   "source": [
    "## 1.2. TWO-PASS HASH TABLE\n",
    "\n",
    "TIME COMPLEXITY:   O(n)\n",
    "\n",
    "SPACE COMPLEXITY:  O(n)"
   ]
  },
  {
   "cell_type": "code",
   "execution_count": null,
   "metadata": {},
   "outputs": [],
   "source": [
    "class Solution:\n",
    "    def twoSum(self, nums: List[int], target: int) -> List[int]:\n",
    "\n",
    "        # the number is used as the key rather than the value, as only keys can be\n",
    "        # searched for in a dict\n",
    "        hash_table = {nums[idx] : idx for idx in range(len(nums))}\n",
    "        for i in range(len(nums)):\n",
    "            if target-nums[i] in hash_table.keys():\n",
    "                j = hash_table[target-nums[i]]\n",
    "                if i != j:\n",
    "                    return [i, j]"
   ]
  }
 ],
 "metadata": {
  "kernelspec": {
   "display_name": "Python 3",
   "language": "python",
   "name": "python3"
  },
  "language_info": {
   "codemirror_mode": {
    "name": "ipython",
    "version": 3
   },
   "file_extension": ".py",
   "mimetype": "text/x-python",
   "name": "python",
   "nbconvert_exporter": "python",
   "pygments_lexer": "ipython3",
   "version": "3.7.6"
  }
 },
 "nbformat": 4,
 "nbformat_minor": 2
}
